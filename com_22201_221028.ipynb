1total = 0
counter = 1
while counter <= 10:
  grade = int(input("점수를 입력하시오.:"))
  total = grade + total
  counter = counter + 1
  average = total /10
  10
  print(average)

점수를 입력하시오.:10
1.0
점수를 입력하시오.:10
2.0
점수를 입력하시오.:10
3.0
 
 =x 10
y = 2
result = x + y
print(result)
